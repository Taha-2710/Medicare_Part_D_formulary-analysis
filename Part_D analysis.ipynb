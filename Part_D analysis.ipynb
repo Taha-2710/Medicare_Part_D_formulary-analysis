{
 "cells": [
  {
   "cell_type": "code",
   "execution_count": 2,
   "id": "438049fe-a90c-462d-a103-991a7d05e0d9",
   "metadata": {},
   "outputs": [],
   "source": [
    "import pandas as pd"
   ]
  },
  {
   "cell_type": "code",
   "execution_count": 3,
   "id": "43e97939-d6b8-4c3c-8682-546e30d5a5d4",
   "metadata": {},
   "outputs": [
    {
     "data": {
      "text/html": [
       "<div>\n",
       "<style scoped>\n",
       "    .dataframe tbody tr th:only-of-type {\n",
       "        vertical-align: middle;\n",
       "    }\n",
       "\n",
       "    .dataframe tbody tr th {\n",
       "        vertical-align: top;\n",
       "    }\n",
       "\n",
       "    .dataframe thead th {\n",
       "        text-align: right;\n",
       "    }\n",
       "</style>\n",
       "<table border=\"1\" class=\"dataframe\">\n",
       "  <thead>\n",
       "    <tr style=\"text-align: right;\">\n",
       "      <th></th>\n",
       "      <th>FORMULARY_ID</th>\n",
       "      <th>FORMULARY_VERSION</th>\n",
       "      <th>CONTRACT_YEAR</th>\n",
       "      <th>RXCUI</th>\n",
       "      <th>NDC</th>\n",
       "      <th>TIER_LEVEL_VALUE</th>\n",
       "      <th>QUANTITY_LIMIT_YN</th>\n",
       "      <th>QUANTITY_LIMIT_AMOUNT</th>\n",
       "      <th>QUANTITY_LIMIT_DAYS</th>\n",
       "      <th>PRIOR_AUTHORIZATION_YN</th>\n",
       "      <th>STEP_THERAPY_YN</th>\n",
       "    </tr>\n",
       "  </thead>\n",
       "  <tbody>\n",
       "    <tr>\n",
       "      <th>0</th>\n",
       "      <td>00025000</td>\n",
       "      <td>18</td>\n",
       "      <td>2025</td>\n",
       "      <td>1551300</td>\n",
       "      <td>00002143380</td>\n",
       "      <td>3</td>\n",
       "      <td>Y</td>\n",
       "      <td>2</td>\n",
       "      <td>28</td>\n",
       "      <td>Y</td>\n",
       "      <td>N</td>\n",
       "    </tr>\n",
       "    <tr>\n",
       "      <th>1</th>\n",
       "      <td>00025000</td>\n",
       "      <td>18</td>\n",
       "      <td>2025</td>\n",
       "      <td>1551306</td>\n",
       "      <td>00002143480</td>\n",
       "      <td>3</td>\n",
       "      <td>Y</td>\n",
       "      <td>2</td>\n",
       "      <td>28</td>\n",
       "      <td>Y</td>\n",
       "      <td>N</td>\n",
       "    </tr>\n",
       "    <tr>\n",
       "      <th>2</th>\n",
       "      <td>00025000</td>\n",
       "      <td>18</td>\n",
       "      <td>2025</td>\n",
       "      <td>2058877</td>\n",
       "      <td>00002143611</td>\n",
       "      <td>3</td>\n",
       "      <td>Y</td>\n",
       "      <td>2</td>\n",
       "      <td>28</td>\n",
       "      <td>Y</td>\n",
       "      <td>N</td>\n",
       "    </tr>\n",
       "    <tr>\n",
       "      <th>3</th>\n",
       "      <td>00025000</td>\n",
       "      <td>18</td>\n",
       "      <td>2025</td>\n",
       "      <td>2601758</td>\n",
       "      <td>00002145780</td>\n",
       "      <td>3</td>\n",
       "      <td>Y</td>\n",
       "      <td>2</td>\n",
       "      <td>28</td>\n",
       "      <td>Y</td>\n",
       "      <td>N</td>\n",
       "    </tr>\n",
       "    <tr>\n",
       "      <th>4</th>\n",
       "      <td>00025000</td>\n",
       "      <td>18</td>\n",
       "      <td>2025</td>\n",
       "      <td>2601776</td>\n",
       "      <td>00002146080</td>\n",
       "      <td>3</td>\n",
       "      <td>Y</td>\n",
       "      <td>2</td>\n",
       "      <td>28</td>\n",
       "      <td>Y</td>\n",
       "      <td>N</td>\n",
       "    </tr>\n",
       "    <tr>\n",
       "      <th>...</th>\n",
       "      <td>...</td>\n",
       "      <td>...</td>\n",
       "      <td>...</td>\n",
       "      <td>...</td>\n",
       "      <td>...</td>\n",
       "      <td>...</td>\n",
       "      <td>...</td>\n",
       "      <td>...</td>\n",
       "      <td>...</td>\n",
       "      <td>...</td>\n",
       "      <td>...</td>\n",
       "    </tr>\n",
       "    <tr>\n",
       "      <th>1300278</th>\n",
       "      <td>00025521</td>\n",
       "      <td>12</td>\n",
       "      <td>2025</td>\n",
       "      <td>2690862</td>\n",
       "      <td>82950000124</td>\n",
       "      <td>5</td>\n",
       "      <td>Y</td>\n",
       "      <td>24</td>\n",
       "      <td>28</td>\n",
       "      <td>Y</td>\n",
       "      <td>N</td>\n",
       "    </tr>\n",
       "    <tr>\n",
       "      <th>1300279</th>\n",
       "      <td>00025521</td>\n",
       "      <td>12</td>\n",
       "      <td>2025</td>\n",
       "      <td>2682445</td>\n",
       "      <td>82950001201</td>\n",
       "      <td>5</td>\n",
       "      <td>Y</td>\n",
       "      <td>96</td>\n",
       "      <td>28</td>\n",
       "      <td>Y</td>\n",
       "      <td>N</td>\n",
       "    </tr>\n",
       "    <tr>\n",
       "      <th>1300280</th>\n",
       "      <td>00025521</td>\n",
       "      <td>12</td>\n",
       "      <td>2025</td>\n",
       "      <td>2048025</td>\n",
       "      <td>83257000541</td>\n",
       "      <td>5</td>\n",
       "      <td>N</td>\n",
       "      <td></td>\n",
       "      <td></td>\n",
       "      <td>N</td>\n",
       "      <td>N</td>\n",
       "    </tr>\n",
       "    <tr>\n",
       "      <th>1300281</th>\n",
       "      <td>00025521</td>\n",
       "      <td>12</td>\n",
       "      <td>2025</td>\n",
       "      <td>2684032</td>\n",
       "      <td>83296010012</td>\n",
       "      <td>5</td>\n",
       "      <td>Y</td>\n",
       "      <td>120</td>\n",
       "      <td>30</td>\n",
       "      <td>Y</td>\n",
       "      <td>N</td>\n",
       "    </tr>\n",
       "    <tr>\n",
       "      <th>1300282</th>\n",
       "      <td>00025521</td>\n",
       "      <td>12</td>\n",
       "      <td>2025</td>\n",
       "      <td>1248442</td>\n",
       "      <td>99207027675</td>\n",
       "      <td>4</td>\n",
       "      <td>N</td>\n",
       "      <td></td>\n",
       "      <td></td>\n",
       "      <td>N</td>\n",
       "      <td>N</td>\n",
       "    </tr>\n",
       "  </tbody>\n",
       "</table>\n",
       "<p>1300283 rows × 11 columns</p>\n",
       "</div>"
      ],
      "text/plain": [
       "        FORMULARY_ID FORMULARY_VERSION CONTRACT_YEAR    RXCUI          NDC  \\\n",
       "0           00025000                18          2025  1551300  00002143380   \n",
       "1           00025000                18          2025  1551306  00002143480   \n",
       "2           00025000                18          2025  2058877  00002143611   \n",
       "3           00025000                18          2025  2601758  00002145780   \n",
       "4           00025000                18          2025  2601776  00002146080   \n",
       "...              ...               ...           ...      ...          ...   \n",
       "1300278     00025521                12          2025  2690862  82950000124   \n",
       "1300279     00025521                12          2025  2682445  82950001201   \n",
       "1300280     00025521                12          2025  2048025  83257000541   \n",
       "1300281     00025521                12          2025  2684032  83296010012   \n",
       "1300282     00025521                12          2025  1248442  99207027675   \n",
       "\n",
       "        TIER_LEVEL_VALUE QUANTITY_LIMIT_YN QUANTITY_LIMIT_AMOUNT  \\\n",
       "0                      3                 Y                     2   \n",
       "1                      3                 Y                     2   \n",
       "2                      3                 Y                     2   \n",
       "3                      3                 Y                     2   \n",
       "4                      3                 Y                     2   \n",
       "...                  ...               ...                   ...   \n",
       "1300278                5                 Y                    24   \n",
       "1300279                5                 Y                    96   \n",
       "1300280                5                 N                         \n",
       "1300281                5                 Y                   120   \n",
       "1300282                4                 N                         \n",
       "\n",
       "        QUANTITY_LIMIT_DAYS PRIOR_AUTHORIZATION_YN STEP_THERAPY_YN  \n",
       "0                        28                      Y               N  \n",
       "1                        28                      Y               N  \n",
       "2                        28                      Y               N  \n",
       "3                        28                      Y               N  \n",
       "4                        28                      Y               N  \n",
       "...                     ...                    ...             ...  \n",
       "1300278                  28                      Y               N  \n",
       "1300279                  28                      Y               N  \n",
       "1300280                                          N               N  \n",
       "1300281                  30                      Y               N  \n",
       "1300282                                          N               N  \n",
       "\n",
       "[1300283 rows x 11 columns]"
      ]
     },
     "execution_count": 3,
     "metadata": {},
     "output_type": "execute_result"
    }
   ],
   "source": [
    "df=pd.read_csv(r'C:\\Users\\taham\\OneDrive\\Desktop\\New folder\\basic drugs formulary file  20250630.txt',dtype=str,sep='|')\n",
    "df"
   ]
  },
  {
   "cell_type": "code",
   "execution_count": 4,
   "id": "dcce1c1e-47c1-41a7-bf24-02c29b3ce9c3",
   "metadata": {},
   "outputs": [
    {
     "name": "stdout",
     "output_type": "stream",
     "text": [
      "<class 'pandas.core.frame.DataFrame'>\n",
      "RangeIndex: 1300283 entries, 0 to 1300282\n",
      "Data columns (total 11 columns):\n",
      " #   Column                  Non-Null Count    Dtype \n",
      "---  ------                  --------------    ----- \n",
      " 0   FORMULARY_ID            1300283 non-null  object\n",
      " 1   FORMULARY_VERSION       1300283 non-null  object\n",
      " 2   CONTRACT_YEAR           1300283 non-null  object\n",
      " 3   RXCUI                   1300283 non-null  object\n",
      " 4   NDC                     1300283 non-null  object\n",
      " 5   TIER_LEVEL_VALUE        1300283 non-null  object\n",
      " 6   QUANTITY_LIMIT_YN       1300283 non-null  object\n",
      " 7   QUANTITY_LIMIT_AMOUNT   1300283 non-null  object\n",
      " 8   QUANTITY_LIMIT_DAYS     1300283 non-null  object\n",
      " 9   PRIOR_AUTHORIZATION_YN  1300283 non-null  object\n",
      " 10  STEP_THERAPY_YN         1300283 non-null  object\n",
      "dtypes: object(11)\n",
      "memory usage: 109.1+ MB\n"
     ]
    }
   ],
   "source": [
    "df.info()"
   ]
  },
  {
   "cell_type": "code",
   "execution_count": 5,
   "id": "e8a48a55-20fb-4c76-b170-02b6271856b3",
   "metadata": {},
   "outputs": [],
   "source": [
    "df['TIER_LEVEL_VALUE']=pd.to_numeric(df['TIER_LEVEL_VALUE'],errors='coerce')"
   ]
  },
  {
   "cell_type": "code",
   "execution_count": 6,
   "id": "4200a949-af2a-45d2-9d9a-c81bf8ade97d",
   "metadata": {},
   "outputs": [
    {
     "name": "stdout",
     "output_type": "stream",
     "text": [
      "<class 'pandas.core.frame.DataFrame'>\n",
      "RangeIndex: 1300283 entries, 0 to 1300282\n",
      "Data columns (total 11 columns):\n",
      " #   Column                  Non-Null Count    Dtype \n",
      "---  ------                  --------------    ----- \n",
      " 0   FORMULARY_ID            1300283 non-null  object\n",
      " 1   FORMULARY_VERSION       1300283 non-null  object\n",
      " 2   CONTRACT_YEAR           1300283 non-null  object\n",
      " 3   RXCUI                   1300283 non-null  object\n",
      " 4   NDC                     1300283 non-null  object\n",
      " 5   TIER_LEVEL_VALUE        1300283 non-null  int64 \n",
      " 6   QUANTITY_LIMIT_YN       1300283 non-null  object\n",
      " 7   QUANTITY_LIMIT_AMOUNT   1300283 non-null  object\n",
      " 8   QUANTITY_LIMIT_DAYS     1300283 non-null  object\n",
      " 9   PRIOR_AUTHORIZATION_YN  1300283 non-null  object\n",
      " 10  STEP_THERAPY_YN         1300283 non-null  object\n",
      "dtypes: int64(1), object(10)\n",
      "memory usage: 109.1+ MB\n"
     ]
    }
   ],
   "source": [
    "df.info()"
   ]
  },
  {
   "cell_type": "code",
   "execution_count": 7,
   "id": "e00ba9d4-a91e-4445-bec0-9e94e3dafcef",
   "metadata": {},
   "outputs": [
    {
     "data": {
      "text/plain": [
       "FORMULARY_ID              0\n",
       "FORMULARY_VERSION         0\n",
       "CONTRACT_YEAR             0\n",
       "RXCUI                     0\n",
       "NDC                       0\n",
       "TIER_LEVEL_VALUE          0\n",
       "QUANTITY_LIMIT_YN         0\n",
       "QUANTITY_LIMIT_AMOUNT     0\n",
       "QUANTITY_LIMIT_DAYS       0\n",
       "PRIOR_AUTHORIZATION_YN    0\n",
       "STEP_THERAPY_YN           0\n",
       "dtype: int64"
      ]
     },
     "execution_count": 7,
     "metadata": {},
     "output_type": "execute_result"
    }
   ],
   "source": [
    "df.isna().sum()"
   ]
  },
  {
   "cell_type": "code",
   "execution_count": 8,
   "id": "8f1225bc-2b9a-464d-ae97-1a7c7cca8d4f",
   "metadata": {},
   "outputs": [
    {
     "data": {
      "text/plain": [
       "0"
      ]
     },
     "execution_count": 8,
     "metadata": {},
     "output_type": "execute_result"
    }
   ],
   "source": [
    "df.duplicated().sum()"
   ]
  },
  {
   "cell_type": "code",
   "execution_count": 9,
   "id": "beb5ccee-345e-4206-a61c-893097a8438e",
   "metadata": {},
   "outputs": [
    {
     "name": "stdout",
     "output_type": "stream",
     "text": [
      "<class 'pandas.core.frame.DataFrame'>\n",
      "RangeIndex: 1300283 entries, 0 to 1300282\n",
      "Data columns (total 9 columns):\n",
      " #   Column                  Non-Null Count    Dtype \n",
      "---  ------                  --------------    ----- \n",
      " 0   FORMULARY_ID            1300283 non-null  object\n",
      " 1   FORMULARY_VERSION       1300283 non-null  object\n",
      " 2   CONTRACT_YEAR           1300283 non-null  object\n",
      " 3   RXCUI                   1300283 non-null  object\n",
      " 4   NDC                     1300283 non-null  object\n",
      " 5   TIER_LEVEL_VALUE        1300283 non-null  int64 \n",
      " 6   QUANTITY_LIMIT_YN       1300283 non-null  object\n",
      " 7   PRIOR_AUTHORIZATION_YN  1300283 non-null  object\n",
      " 8   STEP_THERAPY_YN         1300283 non-null  object\n",
      "dtypes: int64(1), object(8)\n",
      "memory usage: 89.3+ MB\n"
     ]
    }
   ],
   "source": [
    "df=df.drop(['QUANTITY_LIMIT_AMOUNT','QUANTITY_LIMIT_DAYS'],axis=1)\n",
    "df.info()"
   ]
  },
  {
   "cell_type": "code",
   "execution_count": 10,
   "id": "20222428-74ef-47e8-a51b-333ae3b39033",
   "metadata": {},
   "outputs": [
    {
     "data": {
      "text/plain": [
       "0.5250809746547815"
      ]
     },
     "execution_count": 10,
     "metadata": {},
     "output_type": "execute_result"
    }
   ],
   "source": [
    "df['TIER_LEVEL_VALUE'].skew()"
   ]
  },
  {
   "cell_type": "code",
   "execution_count": 11,
   "id": "4de71ed0-35e2-4c82-9d7e-e06acf7b8fbd",
   "metadata": {},
   "outputs": [
    {
     "data": {
      "text/plain": [
       "<Axes: ylabel='TIER_LEVEL_VALUE'>"
      ]
     },
     "execution_count": 11,
     "metadata": {},
     "output_type": "execute_result"
    },
    {
     "data": {
      "image/png": "[encoded data removed]",
      "text/plain": [
       "<Figure size 640x480 with 1 Axes>"
      ]
     },
     "metadata": {},
     "output_type": "display_data"
    }
   ],
   "source": [
    "\n",
    "import seaborn as sns\n",
    "sns.set()\n",
    "sns.boxplot(df['TIER_LEVEL_VALUE'])"
   ]
  },
  {
   "cell_type": "code",
   "execution_count": 12,
   "id": "8bf7b232-db32-44ea-8707-973f4c89529d",
   "metadata": {},
   "outputs": [],
   "source": [
    "col=['QUANTITY_LIMIT_YN','PRIOR_AUTHORIZATION_YN','STEP_THERAPY_YN']\n",
    "for x in col:\n",
    "    df[x]=df[x].map({'Y':'YES','N':'NO'})"
   ]
  },
  {
   "cell_type": "code",
   "execution_count": 13,
   "id": "56791980-e90f-4b82-a03e-1f826c0e51cc",
   "metadata": {},
   "outputs": [
    {
     "data": {
      "text/html": [
       "<div>\n",
       "<style scoped>\n",
       "    .dataframe tbody tr th:only-of-type {\n",
       "        vertical-align: middle;\n",
       "    }\n",
       "\n",
       "    .dataframe tbody tr th {\n",
       "        vertical-align: top;\n",
       "    }\n",
       "\n",
       "    .dataframe thead th {\n",
       "        text-align: right;\n",
       "    }\n",
       "</style>\n",
       "<table border=\"1\" class=\"dataframe\">\n",
       "  <thead>\n",
       "    <tr style=\"text-align: right;\">\n",
       "      <th></th>\n",
       "      <th>FORMULARY_ID</th>\n",
       "      <th>FORMULARY_VERSION</th>\n",
       "      <th>CONTRACT_YEAR</th>\n",
       "      <th>RXCUI</th>\n",
       "      <th>NDC</th>\n",
       "      <th>TIER_LEVEL_VALUE</th>\n",
       "      <th>QUANTITY_LIMIT_YN</th>\n",
       "      <th>PRIOR_AUTHORIZATION_YN</th>\n",
       "      <th>STEP_THERAPY_YN</th>\n",
       "    </tr>\n",
       "  </thead>\n",
       "  <tbody>\n",
       "    <tr>\n",
       "      <th>0</th>\n",
       "      <td>00025000</td>\n",
       "      <td>18</td>\n",
       "      <td>2025</td>\n",
       "      <td>1551300</td>\n",
       "      <td>00002143380</td>\n",
       "      <td>3</td>\n",
       "      <td>YES</td>\n",
       "      <td>YES</td>\n",
       "      <td>NO</td>\n",
       "    </tr>\n",
       "    <tr>\n",
       "      <th>1</th>\n",
       "      <td>00025000</td>\n",
       "      <td>18</td>\n",
       "      <td>2025</td>\n",
       "      <td>1551306</td>\n",
       "      <td>00002143480</td>\n",
       "      <td>3</td>\n",
       "      <td>YES</td>\n",
       "      <td>YES</td>\n",
       "      <td>NO</td>\n",
       "    </tr>\n",
       "    <tr>\n",
       "      <th>2</th>\n",
       "      <td>00025000</td>\n",
       "      <td>18</td>\n",
       "      <td>2025</td>\n",
       "      <td>2058877</td>\n",
       "      <td>00002143611</td>\n",
       "      <td>3</td>\n",
       "      <td>YES</td>\n",
       "      <td>YES</td>\n",
       "      <td>NO</td>\n",
       "    </tr>\n",
       "    <tr>\n",
       "      <th>3</th>\n",
       "      <td>00025000</td>\n",
       "      <td>18</td>\n",
       "      <td>2025</td>\n",
       "      <td>2601758</td>\n",
       "      <td>00002145780</td>\n",
       "      <td>3</td>\n",
       "      <td>YES</td>\n",
       "      <td>YES</td>\n",
       "      <td>NO</td>\n",
       "    </tr>\n",
       "    <tr>\n",
       "      <th>4</th>\n",
       "      <td>00025000</td>\n",
       "      <td>18</td>\n",
       "      <td>2025</td>\n",
       "      <td>2601776</td>\n",
       "      <td>00002146080</td>\n",
       "      <td>3</td>\n",
       "      <td>YES</td>\n",
       "      <td>YES</td>\n",
       "      <td>NO</td>\n",
       "    </tr>\n",
       "  </tbody>\n",
       "</table>\n",
       "</div>"
      ],
      "text/plain": [
       "  FORMULARY_ID FORMULARY_VERSION CONTRACT_YEAR    RXCUI          NDC  \\\n",
       "0     00025000                18          2025  1551300  00002143380   \n",
       "1     00025000                18          2025  1551306  00002143480   \n",
       "2     00025000                18          2025  2058877  00002143611   \n",
       "3     00025000                18          2025  2601758  00002145780   \n",
       "4     00025000                18          2025  2601776  00002146080   \n",
       "\n",
       "   TIER_LEVEL_VALUE QUANTITY_LIMIT_YN PRIOR_AUTHORIZATION_YN STEP_THERAPY_YN  \n",
       "0                 3               YES                    YES              NO  \n",
       "1                 3               YES                    YES              NO  \n",
       "2                 3               YES                    YES              NO  \n",
       "3                 3               YES                    YES              NO  \n",
       "4                 3               YES                    YES              NO  "
      ]
     },
     "execution_count": 13,
     "metadata": {},
     "output_type": "execute_result"
    }
   ],
   "source": [
    "df.head()"
   ]
  },
  {
   "cell_type": "code",
   "execution_count": 14,
   "id": "38cdbe4a-6b52-491d-b0c0-95b853df4594",
   "metadata": {},
   "outputs": [
    {
     "data": {
      "text/html": [
       "<div>\n",
       "<style scoped>\n",
       "    .dataframe tbody tr th:only-of-type {\n",
       "        vertical-align: middle;\n",
       "    }\n",
       "\n",
       "    .dataframe tbody tr th {\n",
       "        vertical-align: top;\n",
       "    }\n",
       "\n",
       "    .dataframe thead th {\n",
       "        text-align: right;\n",
       "    }\n",
       "</style>\n",
       "<table border=\"1\" class=\"dataframe\">\n",
       "  <thead>\n",
       "    <tr style=\"text-align: right;\">\n",
       "      <th></th>\n",
       "      <th>FORMULARY_ID</th>\n",
       "      <th>FORMULARY_VERSION</th>\n",
       "      <th>CONTRACT_YEAR</th>\n",
       "      <th>RXCUI</th>\n",
       "      <th>NDC</th>\n",
       "      <th>QUANTITY_LIMIT_YN</th>\n",
       "      <th>PRIOR_AUTHORIZATION_YN</th>\n",
       "      <th>STEP_THERAPY_YN</th>\n",
       "    </tr>\n",
       "  </thead>\n",
       "  <tbody>\n",
       "    <tr>\n",
       "      <th>count</th>\n",
       "      <td>1300283</td>\n",
       "      <td>1300283</td>\n",
       "      <td>1300283</td>\n",
       "      <td>1300283</td>\n",
       "      <td>1300283</td>\n",
       "      <td>1300283</td>\n",
       "      <td>1300283</td>\n",
       "      <td>1300283</td>\n",
       "    </tr>\n",
       "    <tr>\n",
       "      <th>unique</th>\n",
       "      <td>382</td>\n",
       "      <td>15</td>\n",
       "      <td>1</td>\n",
       "      <td>6024</td>\n",
       "      <td>6024</td>\n",
       "      <td>2</td>\n",
       "      <td>2</td>\n",
       "      <td>2</td>\n",
       "    </tr>\n",
       "    <tr>\n",
       "      <th>top</th>\n",
       "      <td>00025014</td>\n",
       "      <td>12</td>\n",
       "      <td>2025</td>\n",
       "      <td>199521</td>\n",
       "      <td>00591385101</td>\n",
       "      <td>NO</td>\n",
       "      <td>NO</td>\n",
       "      <td>NO</td>\n",
       "    </tr>\n",
       "    <tr>\n",
       "      <th>freq</th>\n",
       "      <td>4418</td>\n",
       "      <td>425207</td>\n",
       "      <td>1300283</td>\n",
       "      <td>382</td>\n",
       "      <td>382</td>\n",
       "      <td>808249</td>\n",
       "      <td>946310</td>\n",
       "      <td>1285870</td>\n",
       "    </tr>\n",
       "  </tbody>\n",
       "</table>\n",
       "</div>"
      ],
      "text/plain": [
       "       FORMULARY_ID FORMULARY_VERSION CONTRACT_YEAR    RXCUI          NDC  \\\n",
       "count       1300283           1300283       1300283  1300283      1300283   \n",
       "unique          382                15             1     6024         6024   \n",
       "top        00025014                12          2025   199521  00591385101   \n",
       "freq           4418            425207       1300283      382          382   \n",
       "\n",
       "       QUANTITY_LIMIT_YN PRIOR_AUTHORIZATION_YN STEP_THERAPY_YN  \n",
       "count            1300283                1300283         1300283  \n",
       "unique                 2                      2               2  \n",
       "top                   NO                     NO              NO  \n",
       "freq              808249                 946310         1285870  "
      ]
     },
     "execution_count": 14,
     "metadata": {},
     "output_type": "execute_result"
    }
   ],
   "source": [
    "df.describe(include='object')"
   ]
  },
  {
   "cell_type": "code",
   "execution_count": 15,
   "id": "3c1a6caa-989d-4262-a162-3ab6a5f947c8",
   "metadata": {},
   "outputs": [],
   "source": [
    "total_drugs=len(df)"
   ]
  },
  {
   "cell_type": "code",
   "execution_count": 16,
   "id": "0d3f9198-f517-4282-9607-fc07b1236ca4",
   "metadata": {},
   "outputs": [],
   "source": [
    "PA_percent=((df['PRIOR_AUTHORIZATION_YN']=='YES').sum()/total_drugs)*100\n",
    "ST_percent=((df['STEP_THERAPY_YN']=='YES').sum()/total_drugs)*100\n",
    "QL_percent=((df['QUANTITY_LIMIT_YN']=='YES').sum()/total_drugs)*100"
   ]
  },
  {
   "cell_type": "code",
   "execution_count": 17,
   "id": "efb1361f-c648-4a10-93e7-71be3604dc54",
   "metadata": {},
   "outputs": [
    {
     "name": "stdout",
     "output_type": "stream",
     "text": [
      "% of drugs requiring PA:27.22%\n",
      "% of drugs requiring ST:1.11%\n",
      "% of drugs with Quantity_Limit:37.84%\n"
     ]
    }
   ],
   "source": [
    "print(f\"% of drugs requiring PA:{PA_percent:.2f}%\")\n",
    "print(f\"% of drugs requiring ST:{ST_percent:.2f}%\")\n",
    "print(f\"% of drugs with Quantity_Limit:{QL_percent:.2f}%\")"
   ]
  },
  {
   "cell_type": "code",
   "execution_count": 18,
   "id": "8336b4a0-515b-442d-93f9-db5521470b47",
   "metadata": {},
   "outputs": [
    {
     "name": "stdout",
     "output_type": "stream",
     "text": [
      "% of drugs requiring both PA and ST :0.03%\n"
     ]
    }
   ],
   "source": [
    "pa_st_percent=(((df['PRIOR_AUTHORIZATION_YN']=='YES')&(df['STEP_THERAPY_YN']=='YES')).sum()/total_drugs)*100\n",
    "print(f\"% of drugs requiring both PA and ST :{pa_st_percent:.2f}%\")"
   ]
  },
  {
   "cell_type": "code",
   "execution_count": 19,
   "id": "18a09e4b-2af8-4bc8-ad98-94b6b61d8fe7",
   "metadata": {},
   "outputs": [
    {
     "name": "stdout",
     "output_type": "stream",
     "text": [
      "% drug requiring both QL and PA:16.86%\n"
     ]
    }
   ],
   "source": [
    "ql_pa_percent=(((df['QUANTITY_LIMIT_YN']=='YES')&(df['PRIOR_AUTHORIZATION_YN']=='YES')).sum()/total_drugs)*100\n",
    "print(f\"% drug requiring both QL and PA:{ql_pa_percent:.2f}%\")"
   ]
  },
  {
   "cell_type": "code",
   "execution_count": 20,
   "id": "2c232b91-2262-4038-907b-ad0a8e9fe15c",
   "metadata": {},
   "outputs": [
    {
     "name": "stdout",
     "output_type": "stream",
     "text": [
      "% drug requiring both QL and ST:0.80%\n"
     ]
    }
   ],
   "source": [
    "ql_st_percent=(((df['QUANTITY_LIMIT_YN']=='YES')&(df['STEP_THERAPY_YN']=='YES')).sum()/total_drugs)*100\n",
    "print(f\"% drug requiring both QL and ST:{ql_st_percent:.2f}%\")"
   ]
  },
  {
   "cell_type": "code",
   "execution_count": 23,
   "id": "6e29e91c-176c-497a-ad2d-448cb454e855",
   "metadata": {},
   "outputs": [],
   "source": [
    "rx = pd.read_csv(r'C:\\Users\\taham\\OneDrive\\Desktop\\All docs for data analysis\\rrf\\RXNCONSO.RRF',sep='|', header=None, usecols=[0, 14],names=['RXCUI', 'DRUG_NAME'],dtype=str)"
   ]
  },
  {
   "cell_type": "code",
   "execution_count": 24,
   "id": "14889292-845c-40d3-b7a5-43fa513ea3b5",
   "metadata": {},
   "outputs": [
    {
     "data": {
      "text/html": [
       "<div>\n",
       "<style scoped>\n",
       "    .dataframe tbody tr th:only-of-type {\n",
       "        vertical-align: middle;\n",
       "    }\n",
       "\n",
       "    .dataframe tbody tr th {\n",
       "        vertical-align: top;\n",
       "    }\n",
       "\n",
       "    .dataframe thead th {\n",
       "        text-align: right;\n",
       "    }\n",
       "</style>\n",
       "<table border=\"1\" class=\"dataframe\">\n",
       "  <thead>\n",
       "    <tr style=\"text-align: right;\">\n",
       "      <th></th>\n",
       "      <th>RXCUI</th>\n",
       "      <th>DRUG_NAME</th>\n",
       "    </tr>\n",
       "  </thead>\n",
       "  <tbody>\n",
       "    <tr>\n",
       "      <th>0</th>\n",
       "      <td>38</td>\n",
       "      <td>Parlodel</td>\n",
       "    </tr>\n",
       "    <tr>\n",
       "      <th>1</th>\n",
       "      <td>44</td>\n",
       "      <td>mesna</td>\n",
       "    </tr>\n",
       "    <tr>\n",
       "      <th>2</th>\n",
       "      <td>44</td>\n",
       "      <td>mesna</td>\n",
       "    </tr>\n",
       "    <tr>\n",
       "      <th>3</th>\n",
       "      <td>44</td>\n",
       "      <td>MESNA</td>\n",
       "    </tr>\n",
       "    <tr>\n",
       "      <th>4</th>\n",
       "      <td>61</td>\n",
       "      <td>beta-alanine</td>\n",
       "    </tr>\n",
       "  </tbody>\n",
       "</table>\n",
       "</div>"
      ],
      "text/plain": [
       "  RXCUI     DRUG_NAME\n",
       "0    38      Parlodel\n",
       "1    44         mesna\n",
       "2    44         mesna\n",
       "3    44         MESNA\n",
       "4    61  beta-alanine"
      ]
     },
     "execution_count": 24,
     "metadata": {},
     "output_type": "execute_result"
    }
   ],
   "source": [
    "rx.head()"
   ]
  },
  {
   "cell_type": "code",
   "execution_count": 25,
   "id": "27840738-54e2-4a3f-a570-8d3aca84ab2c",
   "metadata": {},
   "outputs": [
    {
     "data": {
      "text/plain": [
       "59206"
      ]
     },
     "execution_count": 25,
     "metadata": {},
     "output_type": "execute_result"
    }
   ],
   "source": [
    "rx.duplicated().sum()"
   ]
  },
  {
   "cell_type": "code",
   "execution_count": 26,
   "id": "df6feb29-e5b8-4321-82fd-41f0de4f8f99",
   "metadata": {},
   "outputs": [],
   "source": [
    "rx_clean=rx.drop_duplicates(subset='RXCUI')"
   ]
  },
  {
   "cell_type": "code",
   "execution_count": 27,
   "id": "e7edd9b3-e0c3-43d4-960e-a2f696576472",
   "metadata": {},
   "outputs": [
    {
     "data": {
      "text/plain": [
       "0"
      ]
     },
     "execution_count": 27,
     "metadata": {},
     "output_type": "execute_result"
    }
   ],
   "source": [
    "rx_clean.duplicated().sum()"
   ]
  },
  {
   "cell_type": "code",
   "execution_count": 28,
   "id": "c9186ee9-3ee7-493e-b3f2-de4f77292cf6",
   "metadata": {},
   "outputs": [],
   "source": [
    "df=df.merge(rx_clean,how='left',on='RXCUI')"
   ]
  },
  {
   "cell_type": "code",
   "execution_count": 29,
   "id": "2bb73073-829b-4789-8c71-a277eb22d002",
   "metadata": {
    "scrolled": true
   },
   "outputs": [
    {
     "data": {
      "text/html": [
       "<div>\n",
       "<style scoped>\n",
       "    .dataframe tbody tr th:only-of-type {\n",
       "        vertical-align: middle;\n",
       "    }\n",
       "\n",
       "    .dataframe tbody tr th {\n",
       "        vertical-align: top;\n",
       "    }\n",
       "\n",
       "    .dataframe thead th {\n",
       "        text-align: right;\n",
       "    }\n",
       "</style>\n",
       "<table border=\"1\" class=\"dataframe\">\n",
       "  <thead>\n",
       "    <tr style=\"text-align: right;\">\n",
       "      <th></th>\n",
       "      <th>FORMULARY_ID</th>\n",
       "      <th>FORMULARY_VERSION</th>\n",
       "      <th>CONTRACT_YEAR</th>\n",
       "      <th>RXCUI</th>\n",
       "      <th>NDC</th>\n",
       "      <th>TIER_LEVEL_VALUE</th>\n",
       "      <th>QUANTITY_LIMIT_YN</th>\n",
       "      <th>PRIOR_AUTHORIZATION_YN</th>\n",
       "      <th>STEP_THERAPY_YN</th>\n",
       "      <th>DRUG_NAME</th>\n",
       "    </tr>\n",
       "  </thead>\n",
       "  <tbody>\n",
       "    <tr>\n",
       "      <th>0</th>\n",
       "      <td>00025000</td>\n",
       "      <td>18</td>\n",
       "      <td>2025</td>\n",
       "      <td>1551300</td>\n",
       "      <td>00002143380</td>\n",
       "      <td>3</td>\n",
       "      <td>YES</td>\n",
       "      <td>YES</td>\n",
       "      <td>NO</td>\n",
       "      <td>DULAGLUTIDE 0.75 mg in 0.5 mL SUBCUTANEOUS INJ...</td>\n",
       "    </tr>\n",
       "    <tr>\n",
       "      <th>1</th>\n",
       "      <td>00025000</td>\n",
       "      <td>18</td>\n",
       "      <td>2025</td>\n",
       "      <td>1551306</td>\n",
       "      <td>00002143480</td>\n",
       "      <td>3</td>\n",
       "      <td>YES</td>\n",
       "      <td>YES</td>\n",
       "      <td>NO</td>\n",
       "      <td>DULAGLUTIDE 1.5 mg in 0.5 mL SUBCUTANEOUS INJE...</td>\n",
       "    </tr>\n",
       "    <tr>\n",
       "      <th>2</th>\n",
       "      <td>00025000</td>\n",
       "      <td>18</td>\n",
       "      <td>2025</td>\n",
       "      <td>2058877</td>\n",
       "      <td>00002143611</td>\n",
       "      <td>3</td>\n",
       "      <td>YES</td>\n",
       "      <td>YES</td>\n",
       "      <td>NO</td>\n",
       "      <td>galcanezumab 120 mg in 1 mL SUBCUTANEOUS INJEC...</td>\n",
       "    </tr>\n",
       "    <tr>\n",
       "      <th>3</th>\n",
       "      <td>00025000</td>\n",
       "      <td>18</td>\n",
       "      <td>2025</td>\n",
       "      <td>2601758</td>\n",
       "      <td>00002145780</td>\n",
       "      <td>3</td>\n",
       "      <td>YES</td>\n",
       "      <td>YES</td>\n",
       "      <td>NO</td>\n",
       "      <td>tirzepatide 15 mg in 0.5 mL SUBCUTANEOUS INJEC...</td>\n",
       "    </tr>\n",
       "    <tr>\n",
       "      <th>4</th>\n",
       "      <td>00025000</td>\n",
       "      <td>18</td>\n",
       "      <td>2025</td>\n",
       "      <td>2601776</td>\n",
       "      <td>00002146080</td>\n",
       "      <td>3</td>\n",
       "      <td>YES</td>\n",
       "      <td>YES</td>\n",
       "      <td>NO</td>\n",
       "      <td>tirzepatide 12.5 mg in 0.5 mL SUBCUTANEOUS INJ...</td>\n",
       "    </tr>\n",
       "  </tbody>\n",
       "</table>\n",
       "</div>"
      ],
      "text/plain": [
       "  FORMULARY_ID FORMULARY_VERSION CONTRACT_YEAR    RXCUI          NDC  \\\n",
       "0     00025000                18          2025  1551300  00002143380   \n",
       "1     00025000                18          2025  1551306  00002143480   \n",
       "2     00025000                18          2025  2058877  00002143611   \n",
       "3     00025000                18          2025  2601758  00002145780   \n",
       "4     00025000                18          2025  2601776  00002146080   \n",
       "\n",
       "   TIER_LEVEL_VALUE QUANTITY_LIMIT_YN PRIOR_AUTHORIZATION_YN STEP_THERAPY_YN  \\\n",
       "0                 3               YES                    YES              NO   \n",
       "1                 3               YES                    YES              NO   \n",
       "2                 3               YES                    YES              NO   \n",
       "3                 3               YES                    YES              NO   \n",
       "4                 3               YES                    YES              NO   \n",
       "\n",
       "                                           DRUG_NAME  \n",
       "0  DULAGLUTIDE 0.75 mg in 0.5 mL SUBCUTANEOUS INJ...  \n",
       "1  DULAGLUTIDE 1.5 mg in 0.5 mL SUBCUTANEOUS INJE...  \n",
       "2  galcanezumab 120 mg in 1 mL SUBCUTANEOUS INJEC...  \n",
       "3  tirzepatide 15 mg in 0.5 mL SUBCUTANEOUS INJEC...  \n",
       "4  tirzepatide 12.5 mg in 0.5 mL SUBCUTANEOUS INJ...  "
      ]
     },
     "execution_count": 29,
     "metadata": {},
     "output_type": "execute_result"
    }
   ],
   "source": [
    "df.head()"
   ]
  },
  {
   "cell_type": "code",
   "execution_count": 30,
   "id": "79683cc4-8707-4945-bb46-d8ba642afb31",
   "metadata": {},
   "outputs": [
    {
     "data": {
      "text/plain": [
       "FORMULARY_ID              0\n",
       "FORMULARY_VERSION         0\n",
       "CONTRACT_YEAR             0\n",
       "RXCUI                     0\n",
       "NDC                       0\n",
       "TIER_LEVEL_VALUE          0\n",
       "QUANTITY_LIMIT_YN         0\n",
       "PRIOR_AUTHORIZATION_YN    0\n",
       "STEP_THERAPY_YN           0\n",
       "DRUG_NAME                 0\n",
       "dtype: int64"
      ]
     },
     "execution_count": 30,
     "metadata": {},
     "output_type": "execute_result"
    }
   ],
   "source": [
    "df.isna().sum()"
   ]
  },
  {
   "cell_type": "code",
   "execution_count": 31,
   "id": "9bb19511-430f-4780-8241-597bf3920157",
   "metadata": {},
   "outputs": [
    {
     "data": {
      "text/plain": [
       "0"
      ]
     },
     "execution_count": 31,
     "metadata": {},
     "output_type": "execute_result"
    }
   ],
   "source": [
    "df.duplicated().sum()"
   ]
  },
  {
   "cell_type": "code",
   "execution_count": 32,
   "id": "03715178-4a2a-41ed-84d2-99acde3901c9",
   "metadata": {},
   "outputs": [],
   "source": [
    "df.to_csv(r'C:\\Users\\taham\\OneDrive\\Desktop\\cleaned_formulary_dataset.csv',index=False)"
   ]
  },
  {
   "cell_type": "code",
   "execution_count": 44,
   "id": "6352f5c7-97d1-4bdb-8cdb-fbf803b9e925",
   "metadata": {
    "scrolled": true
   },
   "outputs": [
    {
     "data": {
      "text/plain": [
       "TIER_LEVEL_VALUE\n",
       "1    465291\n",
       "2    281425\n",
       "3    166182\n",
       "4    174875\n",
       "5    198848\n",
       "6     13649\n",
       "7        13\n",
       "Name: count, dtype: int64"
      ]
     },
     "execution_count": 44,
     "metadata": {},
     "output_type": "execute_result"
    }
   ],
   "source": [
    "tier_counts=df['TIER_LEVEL_VALUE'].value_counts().sort_index()\n",
    "tier_counts\n"
   ]
  },
  {
   "cell_type": "code",
   "execution_count": 49,
   "id": "64111704-3efe-40c2-a640-516bb25c0b4c",
   "metadata": {
    "scrolled": true
   },
   "outputs": [
    {
     "data": {
      "text/html": [
       "<div>\n",
       "<style scoped>\n",
       "    .dataframe tbody tr th:only-of-type {\n",
       "        vertical-align: middle;\n",
       "    }\n",
       "\n",
       "    .dataframe tbody tr th {\n",
       "        vertical-align: top;\n",
       "    }\n",
       "\n",
       "    .dataframe thead th {\n",
       "        text-align: right;\n",
       "    }\n",
       "</style>\n",
       "<table border=\"1\" class=\"dataframe\">\n",
       "  <thead>\n",
       "    <tr style=\"text-align: right;\">\n",
       "      <th></th>\n",
       "      <th>PRIOR_AUTHORIZATION_YN</th>\n",
       "      <th>QUANTITY_LIMIT_YN</th>\n",
       "      <th>STEP_THERAPY_YN</th>\n",
       "    </tr>\n",
       "    <tr>\n",
       "      <th>TIER_LEVEL_VALUE</th>\n",
       "      <th></th>\n",
       "      <th></th>\n",
       "      <th></th>\n",
       "    </tr>\n",
       "  </thead>\n",
       "  <tbody>\n",
       "    <tr>\n",
       "      <th>1</th>\n",
       "      <td>19.137916</td>\n",
       "      <td>32.267549</td>\n",
       "      <td>0.972940</td>\n",
       "    </tr>\n",
       "    <tr>\n",
       "      <th>2</th>\n",
       "      <td>13.833526</td>\n",
       "      <td>27.599183</td>\n",
       "      <td>0.572799</td>\n",
       "    </tr>\n",
       "    <tr>\n",
       "      <th>3</th>\n",
       "      <td>15.286252</td>\n",
       "      <td>40.780590</td>\n",
       "      <td>0.618599</td>\n",
       "    </tr>\n",
       "    <tr>\n",
       "      <th>4</th>\n",
       "      <td>24.669049</td>\n",
       "      <td>33.837312</td>\n",
       "      <td>2.450322</td>\n",
       "    </tr>\n",
       "    <tr>\n",
       "      <th>5</th>\n",
       "      <td>78.692770</td>\n",
       "      <td>66.670019</td>\n",
       "      <td>1.480025</td>\n",
       "    </tr>\n",
       "    <tr>\n",
       "      <th>6</th>\n",
       "      <td>7.128727</td>\n",
       "      <td>34.412777</td>\n",
       "      <td>0.131878</td>\n",
       "    </tr>\n",
       "    <tr>\n",
       "      <th>7</th>\n",
       "      <td>0.000000</td>\n",
       "      <td>100.000000</td>\n",
       "      <td>0.000000</td>\n",
       "    </tr>\n",
       "  </tbody>\n",
       "</table>\n",
       "</div>"
      ],
      "text/plain": [
       "                  PRIOR_AUTHORIZATION_YN  QUANTITY_LIMIT_YN  STEP_THERAPY_YN\n",
       "TIER_LEVEL_VALUE                                                            \n",
       "1                              19.137916          32.267549         0.972940\n",
       "2                              13.833526          27.599183         0.572799\n",
       "3                              15.286252          40.780590         0.618599\n",
       "4                              24.669049          33.837312         2.450322\n",
       "5                              78.692770          66.670019         1.480025\n",
       "6                               7.128727          34.412777         0.131878\n",
       "7                               0.000000         100.000000         0.000000"
      ]
     },
     "execution_count": 49,
     "metadata": {},
     "output_type": "execute_result"
    }
   ],
   "source": [
    "tier_restrictions=df.groupby('TIER_LEVEL_VALUE')[['PRIOR_AUTHORIZATION_YN','QUANTITY_LIMIT_YN','STEP_THERAPY_YN']].apply(lambda x: ((x=='YES').sum()/x.shape[0])*100)\n",
    "tier_restrictionsb"
   ]
  },
  {
   "cell_type": "code",
   "execution_count": 52,
   "id": "4f355502-fa8b-41f2-9a24-e2768a1e676f",
   "metadata": {
    "scrolled": true
   },
   "outputs": [
    {
     "name": "stderr",
     "output_type": "stream",
     "text": [
      "C:\\Users\\taham\\AppData\\Local\\Temp\\ipykernel_13968\\2589857405.py:5: FutureWarning: \n",
      "\n",
      "Passing `palette` without assigning `hue` is deprecated and will be removed in v0.14.0. Assign the `x` variable to `hue` and set `legend=False` for the same effect.\n",
      "\n",
      "  sns.barplot(x=tier_counts.index,y=tier_counts.values,palette='viridis')\n"
     ]
    },
    {
     "data": {
      "image/png": "[encoded data removed]",
      "text/plain": [
       "<Figure size 800x600 with 1 Axes>"
      ]
     },
     "metadata": {},
     "output_type": "display_data"
    }
   ],
   "source": [
    "import matplotlib.pyplot as plt\n",
    "import seaborn as sns\n",
    "sns.set()\n",
    "plt.figure(figsize=(8,6))\n",
    "sns.barplot(x=tier_counts.index,y=tier_counts.values,palette='viridis')\n",
    "plt.title(\"Drugs distribution per tier_level\")\n",
    "plt.xlabel(\"Tier_level\")\n",
    "plt.ylabel(\"Drugs_count\")\n",
    "plt.grid(axis='y',linestyle='--',alpha=0.7)\n",
    "plt.tight_layout()\n",
    "plt.show()\n"
   ]
  },
  {
   "cell_type": "code",
   "execution_count": 53,
   "id": "2ff435f9-95a1-41a3-96e6-2051cabc35ea",
   "metadata": {
    "scrolled": true
   },
   "outputs": [
    {
     "data": {
      "image/png": "[encoded data removed]",
      "text/plain": [
       "<Figure size 800x500 with 2 Axes>"
      ]
     },
     "metadata": {},
     "output_type": "display_data"
    }
   ],
   "source": [
    "plt.figure(figsize=(8,5))\n",
    "sns.heatmap(tier_restrictions,annot=True,fmt=\".2f\",cmap='YlGnBu')\n",
    "plt.title(\"Restrictions_per_tier_level\")\n",
    "plt.xlabel(\"Restriction_Level\")\n",
    "plt.ylabel(\"Tier_Level\")\n",
    "plt.tight_layout()\n",
    "plt.show()"
   ]
  },
  {
   "cell_type": "code",
   "execution_count": 58,
   "id": "30505feb-300a-4a1b-8297-642cff8c93ad",
   "metadata": {},
   "outputs": [
    {
     "data": {
      "text/html": [
       "<div>\n",
       "<style scoped>\n",
       "    .dataframe tbody tr th:only-of-type {\n",
       "        vertical-align: middle;\n",
       "    }\n",
       "\n",
       "    .dataframe tbody tr th {\n",
       "        vertical-align: top;\n",
       "    }\n",
       "\n",
       "    .dataframe thead th {\n",
       "        text-align: right;\n",
       "    }\n",
       "</style>\n",
       "<table border=\"1\" class=\"dataframe\">\n",
       "  <thead>\n",
       "    <tr style=\"text-align: right;\">\n",
       "      <th></th>\n",
       "      <th>PRIOR_AUTHORIZATION_YN</th>\n",
       "      <th>QUANTITY_LIMIT_YN</th>\n",
       "      <th>STEP_THERAPY_YN</th>\n",
       "    </tr>\n",
       "    <tr>\n",
       "      <th>DRUG_NAME</th>\n",
       "      <th></th>\n",
       "      <th></th>\n",
       "      <th></th>\n",
       "    </tr>\n",
       "  </thead>\n",
       "  <tbody>\n",
       "    <tr>\n",
       "      <th>.ALPHA.1-PROTEINASE INHIBITOR HUMAN 1 g in 50 mL INTRAVENOUS INJECTION, SOLUTION [GLASSIA]</th>\n",
       "      <td>26</td>\n",
       "      <td>0</td>\n",
       "      <td>0</td>\n",
       "    </tr>\n",
       "    <tr>\n",
       "      <th>.ALPHA.1-PROTEINASE INHIBITOR HUMAN 16 mg in 1 mL INTRAVENOUS INJECTION, POWDER, LYOPHILIZED, FOR SOLUTION [Aralast NP]</th>\n",
       "      <td>108</td>\n",
       "      <td>0</td>\n",
       "      <td>0</td>\n",
       "    </tr>\n",
       "    <tr>\n",
       "      <th>0.15 ML methotrexate 50 MG/ML Auto-Injector [Rasuvo]</th>\n",
       "      <td>14</td>\n",
       "      <td>5</td>\n",
       "      <td>54</td>\n",
       "    </tr>\n",
       "    <tr>\n",
       "      <th>0.2 ML adalimumab-aaty 100 MG/ML Prefilled Syringe</th>\n",
       "      <td>60</td>\n",
       "      <td>52</td>\n",
       "      <td>0</td>\n",
       "    </tr>\n",
       "    <tr>\n",
       "      <th>0.2 ML adalimumab-aaty 100 MG/ML Prefilled Syringe [Yuflyma]</th>\n",
       "      <td>107</td>\n",
       "      <td>52</td>\n",
       "      <td>0</td>\n",
       "    </tr>\n",
       "    <tr>\n",
       "      <th>...</th>\n",
       "      <td>...</td>\n",
       "      <td>...</td>\n",
       "      <td>...</td>\n",
       "    </tr>\n",
       "    <tr>\n",
       "      <th>{84 (cabozantinib 20 MG Oral Capsule [Cometriq]) } Pack [Cometriq 60 MG Daily Dose Carton]</th>\n",
       "      <td>380</td>\n",
       "      <td>273</td>\n",
       "      <td>0</td>\n",
       "    </tr>\n",
       "    <tr>\n",
       "      <th>{84 (ethinyl estradiol 0.03 MG / levonorgestrel 0.15 MG Oral Tablet) / 7 (inert ingredients 1 MG Oral Tablet) } Pack</th>\n",
       "      <td>0</td>\n",
       "      <td>97</td>\n",
       "      <td>0</td>\n",
       "    </tr>\n",
       "    <tr>\n",
       "      <th>{84 (ethinyl estradiol 0.03 MG / levonorgestrel 0.15 MG Oral Tablet) / 7 (inert ingredients 1 MG Oral Tablet) } Pack [Introvale 91 Day]</th>\n",
       "      <td>0</td>\n",
       "      <td>38</td>\n",
       "      <td>0</td>\n",
       "    </tr>\n",
       "    <tr>\n",
       "      <th>{84 (ethinyl estradiol 0.03 MG / levonorgestrel 0.15 MG Oral Tablet) / 7 (inert ingredients 1 MG Oral Tablet) } Pack [Setlakin 91 Day]</th>\n",
       "      <td>0</td>\n",
       "      <td>95</td>\n",
       "      <td>0</td>\n",
       "    </tr>\n",
       "    <tr>\n",
       "      <th>{90 (insulin, regular, human 4 UNT Inhalation Powder [Afrezza]) / 90 (insulin, regular, human 8 UNT Inhalation Powder [Afrezza]) } Pack [Afrezza Titration Pack]</th>\n",
       "      <td>0</td>\n",
       "      <td>0</td>\n",
       "      <td>0</td>\n",
       "    </tr>\n",
       "  </tbody>\n",
       "</table>\n",
       "<p>5950 rows × 3 columns</p>\n",
       "</div>"
      ],
      "text/plain": [
       "                                                    PRIOR_AUTHORIZATION_YN  \\\n",
       "DRUG_NAME                                                                    \n",
       ".ALPHA.1-PROTEINASE INHIBITOR HUMAN 1 g in 50 m...                      26   \n",
       ".ALPHA.1-PROTEINASE INHIBITOR HUMAN 16 mg in 1 ...                     108   \n",
       "0.15 ML methotrexate 50 MG/ML Auto-Injector [Ra...                      14   \n",
       "0.2 ML adalimumab-aaty 100 MG/ML Prefilled Syringe                      60   \n",
       "0.2 ML adalimumab-aaty 100 MG/ML Prefilled Syri...                     107   \n",
       "...                                                                    ...   \n",
       "{84 (cabozantinib 20 MG Oral Capsule [Cometriq]...                     380   \n",
       "{84 (ethinyl estradiol 0.03 MG / levonorgestrel...                       0   \n",
       "{84 (ethinyl estradiol 0.03 MG / levonorgestrel...                       0   \n",
       "{84 (ethinyl estradiol 0.03 MG / levonorgestrel...                       0   \n",
       "{90 (insulin, regular, human 4 UNT Inhalation P...                       0   \n",
       "\n",
       "                                                    QUANTITY_LIMIT_YN  \\\n",
       "DRUG_NAME                                                               \n",
       ".ALPHA.1-PROTEINASE INHIBITOR HUMAN 1 g in 50 m...                  0   \n",
       ".ALPHA.1-PROTEINASE INHIBITOR HUMAN 16 mg in 1 ...                  0   \n",
       "0.15 ML methotrexate 50 MG/ML Auto-Injector [Ra...                  5   \n",
       "0.2 ML adalimumab-aaty 100 MG/ML Prefilled Syringe                 52   \n",
       "0.2 ML adalimumab-aaty 100 MG/ML Prefilled Syri...                 52   \n",
       "...                                                               ...   \n",
       "{84 (cabozantinib 20 MG Oral Capsule [Cometriq]...                273   \n",
       "{84 (ethinyl estradiol 0.03 MG / levonorgestrel...                 97   \n",
       "{84 (ethinyl estradiol 0.03 MG / levonorgestrel...                 38   \n",
       "{84 (ethinyl estradiol 0.03 MG / levonorgestrel...                 95   \n",
       "{90 (insulin, regular, human 4 UNT Inhalation P...                  0   \n",
       "\n",
       "                                                    STEP_THERAPY_YN  \n",
       "DRUG_NAME                                                            \n",
       ".ALPHA.1-PROTEINASE INHIBITOR HUMAN 1 g in 50 m...                0  \n",
       ".ALPHA.1-PROTEINASE INHIBITOR HUMAN 16 mg in 1 ...                0  \n",
       "0.15 ML methotrexate 50 MG/ML Auto-Injector [Ra...               54  \n",
       "0.2 ML adalimumab-aaty 100 MG/ML Prefilled Syringe                0  \n",
       "0.2 ML adalimumab-aaty 100 MG/ML Prefilled Syri...                0  \n",
       "...                                                             ...  \n",
       "{84 (cabozantinib 20 MG Oral Capsule [Cometriq]...                0  \n",
       "{84 (ethinyl estradiol 0.03 MG / levonorgestrel...                0  \n",
       "{84 (ethinyl estradiol 0.03 MG / levonorgestrel...                0  \n",
       "{84 (ethinyl estradiol 0.03 MG / levonorgestrel...                0  \n",
       "{90 (insulin, regular, human 4 UNT Inhalation P...                0  \n",
       "\n",
       "[5950 rows x 3 columns]"
      ]
     },
     "execution_count": 58,
     "metadata": {},
     "output_type": "execute_result"
    }
   ],
   "source": [
    "restricted_drugs=df.groupby('DRUG_NAME')[['PRIOR_AUTHORIZATION_YN','QUANTITY_LIMIT_YN','STEP_THERAPY_YN']].apply(lambda x :(x=='YES').sum())\n",
    "restricted_drugs"
   ]
  },
  {
   "cell_type": "code",
   "execution_count": 59,
   "id": "e099fb2f-00c0-4c3c-a0f0-f5decf088c79",
   "metadata": {},
   "outputs": [],
   "source": [
    "restricted_drugs['Total_Restrictions'] = restricted_drugs.sum(axis=1)"
   ]
  },
  {
   "cell_type": "code",
   "execution_count": 62,
   "id": "48366887-922b-474f-9958-d02006e65b02",
   "metadata": {},
   "outputs": [
    {
     "data": {
      "text/html": [
       "<div>\n",
       "<style scoped>\n",
       "    .dataframe tbody tr th:only-of-type {\n",
       "        vertical-align: middle;\n",
       "    }\n",
       "\n",
       "    .dataframe tbody tr th {\n",
       "        vertical-align: top;\n",
       "    }\n",
       "\n",
       "    .dataframe thead th {\n",
       "        text-align: right;\n",
       "    }\n",
       "</style>\n",
       "<table border=\"1\" class=\"dataframe\">\n",
       "  <thead>\n",
       "    <tr style=\"text-align: right;\">\n",
       "      <th></th>\n",
       "      <th>PRIOR_AUTHORIZATION_YN</th>\n",
       "      <th>QUANTITY_LIMIT_YN</th>\n",
       "      <th>STEP_THERAPY_YN</th>\n",
       "      <th>Total_Restrictions</th>\n",
       "    </tr>\n",
       "    <tr>\n",
       "      <th>DRUG_NAME</th>\n",
       "      <th></th>\n",
       "      <th></th>\n",
       "      <th></th>\n",
       "      <th></th>\n",
       "    </tr>\n",
       "  </thead>\n",
       "  <tbody>\n",
       "    <tr>\n",
       "      <th>Trikafta KIT</th>\n",
       "      <td>1114</td>\n",
       "      <td>1091</td>\n",
       "      <td>0</td>\n",
       "      <td>2205</td>\n",
       "    </tr>\n",
       "    <tr>\n",
       "      <th>RIBOCICLIB SUCCINATE 200 mg ORAL TABLET, FILM COATED [KISQALI]</th>\n",
       "      <td>1140</td>\n",
       "      <td>999</td>\n",
       "      <td>0</td>\n",
       "      <td>2139</td>\n",
       "    </tr>\n",
       "    <tr>\n",
       "      <th>LENVATINIB 4 mg ORAL CAPSULE [Lenvima]</th>\n",
       "      <td>1140</td>\n",
       "      <td>768</td>\n",
       "      <td>0</td>\n",
       "      <td>1908</td>\n",
       "    </tr>\n",
       "    <tr>\n",
       "      <th>Lenvima KIT</th>\n",
       "      <td>1140</td>\n",
       "      <td>767</td>\n",
       "      <td>0</td>\n",
       "      <td>1907</td>\n",
       "    </tr>\n",
       "    <tr>\n",
       "      <th>KISQALI FEMARA CO-PACK KIT</th>\n",
       "      <td>760</td>\n",
       "      <td>664</td>\n",
       "      <td>0</td>\n",
       "      <td>1424</td>\n",
       "    </tr>\n",
       "    <tr>\n",
       "      <th>galcanezumab 120 mg in 1 mL SUBCUTANEOUS INJECTION, SOLUTION [EMGALITY]</th>\n",
       "      <td>694</td>\n",
       "      <td>676</td>\n",
       "      <td>0</td>\n",
       "      <td>1370</td>\n",
       "    </tr>\n",
       "    <tr>\n",
       "      <th>LENVATINIB 10 mg ORAL CAPSULE [Lenvima]</th>\n",
       "      <td>760</td>\n",
       "      <td>512</td>\n",
       "      <td>0</td>\n",
       "      <td>1272</td>\n",
       "    </tr>\n",
       "    <tr>\n",
       "      <th>Xcopri Titration Pack KIT</th>\n",
       "      <td>372</td>\n",
       "      <td>684</td>\n",
       "      <td>216</td>\n",
       "      <td>1272</td>\n",
       "    </tr>\n",
       "    <tr>\n",
       "      <th>Skyrizi KIT</th>\n",
       "      <td>744</td>\n",
       "      <td>502</td>\n",
       "      <td>0</td>\n",
       "      <td>1246</td>\n",
       "    </tr>\n",
       "    <tr>\n",
       "      <th>Dupilumab 200 mg in 1.14 mL SUBCUTANEOUS INJECTION, SOLUTION [Dupixent]</th>\n",
       "      <td>759</td>\n",
       "      <td>485</td>\n",
       "      <td>0</td>\n",
       "      <td>1244</td>\n",
       "    </tr>\n",
       "  </tbody>\n",
       "</table>\n",
       "</div>"
      ],
      "text/plain": [
       "                                                    PRIOR_AUTHORIZATION_YN  \\\n",
       "DRUG_NAME                                                                    \n",
       "Trikafta KIT                                                          1114   \n",
       "RIBOCICLIB SUCCINATE 200 mg ORAL TABLET, FILM C...                    1140   \n",
       "LENVATINIB 4 mg ORAL CAPSULE [Lenvima]                                1140   \n",
       "Lenvima KIT                                                           1140   \n",
       "KISQALI FEMARA CO-PACK KIT                                             760   \n",
       "galcanezumab 120 mg in 1 mL SUBCUTANEOUS INJECT...                     694   \n",
       "LENVATINIB 10 mg ORAL CAPSULE [Lenvima]                                760   \n",
       "Xcopri Titration Pack KIT                                              372   \n",
       "Skyrizi KIT                                                            744   \n",
       "Dupilumab 200 mg in 1.14 mL SUBCUTANEOUS INJECT...                     759   \n",
       "\n",
       "                                                    QUANTITY_LIMIT_YN  \\\n",
       "DRUG_NAME                                                               \n",
       "Trikafta KIT                                                     1091   \n",
       "RIBOCICLIB SUCCINATE 200 mg ORAL TABLET, FILM C...                999   \n",
       "LENVATINIB 4 mg ORAL CAPSULE [Lenvima]                            768   \n",
       "Lenvima KIT                                                       767   \n",
       "KISQALI FEMARA CO-PACK KIT                                        664   \n",
       "galcanezumab 120 mg in 1 mL SUBCUTANEOUS INJECT...                676   \n",
       "LENVATINIB 10 mg ORAL CAPSULE [Lenvima]                           512   \n",
       "Xcopri Titration Pack KIT                                         684   \n",
       "Skyrizi KIT                                                       502   \n",
       "Dupilumab 200 mg in 1.14 mL SUBCUTANEOUS INJECT...                485   \n",
       "\n",
       "                                                    STEP_THERAPY_YN  \\\n",
       "DRUG_NAME                                                             \n",
       "Trikafta KIT                                                      0   \n",
       "RIBOCICLIB SUCCINATE 200 mg ORAL TABLET, FILM C...                0   \n",
       "LENVATINIB 4 mg ORAL CAPSULE [Lenvima]                            0   \n",
       "Lenvima KIT                                                       0   \n",
       "KISQALI FEMARA CO-PACK KIT                                        0   \n",
       "galcanezumab 120 mg in 1 mL SUBCUTANEOUS INJECT...                0   \n",
       "LENVATINIB 10 mg ORAL CAPSULE [Lenvima]                           0   \n",
       "Xcopri Titration Pack KIT                                       216   \n",
       "Skyrizi KIT                                                       0   \n",
       "Dupilumab 200 mg in 1.14 mL SUBCUTANEOUS INJECT...                0   \n",
       "\n",
       "                                                    Total_Restrictions  \n",
       "DRUG_NAME                                                               \n",
       "Trikafta KIT                                                      2205  \n",
       "RIBOCICLIB SUCCINATE 200 mg ORAL TABLET, FILM C...                2139  \n",
       "LENVATINIB 4 mg ORAL CAPSULE [Lenvima]                            1908  \n",
       "Lenvima KIT                                                       1907  \n",
       "KISQALI FEMARA CO-PACK KIT                                        1424  \n",
       "galcanezumab 120 mg in 1 mL SUBCUTANEOUS INJECT...                1370  \n",
       "LENVATINIB 10 mg ORAL CAPSULE [Lenvima]                           1272  \n",
       "Xcopri Titration Pack KIT                                         1272  \n",
       "Skyrizi KIT                                                       1246  \n",
       "Dupilumab 200 mg in 1.14 mL SUBCUTANEOUS INJECT...                1244  "
      ]
     },
     "execution_count": 62,
     "metadata": {},
     "output_type": "execute_result"
    }
   ],
   "source": [
    "top_10_restricted = restricted_drugs.nlargest(10, 'Total_Restrictions')\n",
    "top_10_restricted"
   ]
  },
  {
   "cell_type": "code",
   "execution_count": 68,
   "id": "bb7213ef-be15-4d6a-9771-9ebe9a6dcb8d",
   "metadata": {
    "scrolled": true
   },
   "outputs": [
    {
     "data": {
      "text/plain": [
       "DRUG_NAME\n",
       "POTASSIUM CHLORIDE 1.5 g in 15 mL ORAL SOLUTION                      0.0\n",
       "POTASSIUM CHLORIDE 1125 mg ORAL TABLET [POTASSIUM CHLORIDE]          0.0\n",
       "PRAZOSIN HYDROCHLORIDE 2 mg ORAL CAPSULE [Prazosin Hydrochloride]    0.0\n",
       "PRAZOSIN HYDROCHLORIDE 1 mg ORAL CAPSULE                             0.0\n",
       "PRAZIQUANTEL 600 mg ORAL TABLET, FILM COATED                         0.0\n",
       "POTASSIUM CITRATE 5 meq ORAL TABLET, EXTENDED RELEASE                0.0\n",
       "POTASSIUM CITRATE 15 meq ORAL TABLET, EXTENDED RELEASE               0.0\n",
       "POTASSIUM CITRATE 10 meq ORAL TABLET, EXTENDED RELEASE               0.0\n",
       "POTASSIUM CHLORIDE 750 mg ORAL TABLET, EXTENDED RELEASE              0.0\n",
       "POTASSIUM CHLORIDE 750 mg ORAL CAPSULE, EXTENDED RELEASE             0.0\n",
       "Name: Access_Score, dtype: float64"
      ]
     },
     "execution_count": 68,
     "metadata": {},
     "output_type": "execute_result"
    }
   ],
   "source": [
    "# Step 1: Create flag columns for restrictions\n",
    "df['PA_flag'] = df['PRIOR_AUTHORIZATION_YN'].apply(lambda x: -1 if x == 'YES' else 0)\n",
    "df['QL_flag'] = df['QUANTITY_LIMIT_YN'].apply(lambda x: -1 if x == 'YES' else 0)\n",
    "df['ST_flag'] = df['STEP_THERAPY_YN'].apply(lambda x: -1 if x == 'YES' else 0)\n",
    "\n",
    "# Step 2: Calculate access score for each row\n",
    "df['Access_Score'] = df['PA_flag'] + df['QL_flag'] + df['ST_flag']\n",
    "\n",
    "# Step 3: Average score per DRUG_NAME\n",
    "drug_scores = df.groupby('DRUG_NAME')['Access_Score'].mean().sort_values(ascending=False)\n",
    "\n",
    "# Optional: Round for better presentation\n",
    "drug_scores = drug_scores.round(2)\n",
    "\n",
    "# View top restricted drugs by lowest score\n",
    "drug_scores.head(10)\n"
   ]
  },
  {
   "cell_type": "markdown",
   "id": "14f389fb-d025-4810-8de6-4eb26e838298",
   "metadata": {},
   "source": []
  },
  {
   "cell_type": "code",
   "execution_count": 67,
   "id": "2e3b4fe4-61f2-4a49-8d2d-742a4dad3558",
   "metadata": {},
   "outputs": [
    {
     "data": {
      "text/plain": [
       "FORMULARY_ID\n",
       "00025415   -0.06\n",
       "00025393   -0.09\n",
       "00025408   -0.28\n",
       "00025502   -0.30\n",
       "00025504   -0.30\n",
       "00025503   -0.30\n",
       "00025491   -0.33\n",
       "00025492   -0.34\n",
       "00025409   -0.36\n",
       "00025411   -0.38\n",
       "00025390   -0.40\n",
       "00025373   -0.42\n",
       "00025372   -0.42\n",
       "00025128   -0.44\n",
       "00025505   -0.47\n",
       "00025506   -0.47\n",
       "00025508   -0.47\n",
       "00025499   -0.49\n",
       "00025500   -0.49\n",
       "00025366   -0.49\n",
       "Name: Access_Score, dtype: float64"
      ]
     },
     "execution_count": 67,
     "metadata": {},
     "output_type": "execute_result"
    }
   ],
   "source": [
    "formulary_scores = df.groupby('FORMULARY_ID')['Access_Score'].mean().sort_values(ascending=False).round(2)\n",
    "\n",
    "# Show the 10 most restrictive plans\n",
    "top_restrictive_plans = formulary_scores.head(20)\n",
    "top_restrictive_plans"
   ]
  },
  {
   "cell_type": "code",
   "execution_count": null,
   "id": "1776861f-718d-48ef-a0d8-ebb25b5bc71a",
   "metadata": {},
   "outputs": [],
   "source": []
  }
 ],
 "metadata": {
  "kernelspec": {
   "display_name": "Python [conda env:base] *",
   "language": "python",
   "name": "conda-base-py"
  },
  "language_info": {
   "codemirror_mode": {
    "name": "ipython",
    "version": 3
   },
   "file_extension": ".py",
   "mimetype": "text/x-python",
   "name": "python",
   "nbconvert_exporter": "python",
   "pygments_lexer": "ipython3",
   "version": "3.12.7"
  }
 },
 "nbformat": 4,
 "nbformat_minor": 5
}
